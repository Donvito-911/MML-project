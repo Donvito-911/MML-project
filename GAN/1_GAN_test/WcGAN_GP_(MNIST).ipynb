{
 "cells": [
  {
   "cell_type": "markdown",
   "metadata": {
    "id": "1LeWt1-0h2kC"
   },
   "source": [
    "# Description\n",
    "\n",
    "In this notebook, I will use a conditional GAN to generate numbers of the MNIST dataset. Because GANs require a lot of computational resources, I will restrict the dataset size and the number of classes used. My main objective is to see the process of training a GAN.\n",
    "\n",
    "To keep track of GAN's discriminator loss and visualize the quality of images generated, I will use the TensorBoard.\n",
    "\n",
    "> To prevent the well know mode collapse that a vanilla GAN presents, I will use the Wasserstein loss with a gradient penalty (WGAN-GP).\n",
    "\n",
    "> **Tips:** Typically, the discriminator (critic) loss is expected to have negative values and fall very quickly at the beginning of the training, then rise again to near 0, that is the expected behavior of a stable training.\n",
    "\n",
    "| *Discriminator loss.* |\n",
    "![epoch_d_loss](https://github.com/RGivisiez/WcGAN-GP-MNIST/blob/main/img/epoch_d_loss.svg?raw=1)\n"
   ]
  },
  {
   "cell_type": "markdown",
   "metadata": {
    "id": "hHr6fnk6hyi3"
   },
   "source": [
    "# Imports"
   ]
  },
  {
   "cell_type": "code",
   "execution_count": 1,
   "metadata": {
    "colab": {
     "base_uri": "https://localhost:8080/"
    },
    "id": "zeJy4ohuaN26",
    "outputId": "961c51b9-6364-4bcb-95f3-168ba6719dab"
   },
   "outputs": [
    {
     "name": "stderr",
     "output_type": "stream",
     "text": [
      "2023-07-24 17:33:16.431954: I tensorflow/core/platform/cpu_feature_guard.cc:182] This TensorFlow binary is optimized to use available CPU instructions in performance-critical operations.\n",
      "To enable the following instructions: AVX2 FMA, in other operations, rebuild TensorFlow with the appropriate compiler flags.\n",
      "2023-07-24 17:33:17.027498: W tensorflow/compiler/tf2tensorrt/utils/py_utils.cc:38] TF-TRT Warning: Could not find TensorRT\n"
     ]
    },
    {
     "data": {
      "text/plain": [
       "'2.13.0'"
      ]
     },
     "execution_count": 1,
     "metadata": {},
     "output_type": "execute_result"
    }
   ],
   "source": [
    "import os\n",
    "import io\n",
    "import datetime\n",
    "\n",
    "import matplotlib.pyplot as plt\n",
    "from IPython import display\n",
    "import numpy as np\n",
    "\n",
    "import tensorflow as tf\n",
    "from tensorflow.keras import layers\n",
    "from tensorflow import keras\n",
    "from tensorflow.keras import Model\n",
    "tf.__version__"
   ]
  },
  {
   "cell_type": "code",
   "execution_count": 2,
   "metadata": {
    "id": "0DJ2cp_8aeFc"
   },
   "outputs": [],
   "source": [
    "%load_ext tensorboard"
   ]
  },
  {
   "cell_type": "markdown",
   "metadata": {
    "id": "EPIm-RHcCdo5"
   },
   "source": [
    "# Create the dataset"
   ]
  },
  {
   "cell_type": "code",
   "execution_count": 3,
   "metadata": {
    "cellView": "form",
    "id": "2BVluXbyared"
   },
   "outputs": [],
   "source": [
    "#@title Downlad and normalize imagens\n",
    "(train_images, train_labels), (_, _) = tf.keras.datasets.mnist.load_data()\n",
    "\n",
    "train_images = train_images.reshape(train_images.shape[0], 28, 28, 1).astype('float32')\n",
    "\n",
    "norm_image = 255 / 2.0\n",
    "\n",
    "train_images = (train_images - norm_image) / norm_image  # Normalize the images to [-1, 1]"
   ]
  },
  {
   "cell_type": "code",
   "execution_count": 4,
   "metadata": {
    "cellView": "form",
    "colab": {
     "base_uri": "https://localhost:8080/"
    },
    "id": "uFL_YqdR_LDO",
    "outputId": "1302a2f3-841e-4365-e329-0ff4a8e247a7"
   },
   "outputs": [
    {
     "name": "stdout",
     "output_type": "stream",
     "text": [
      "Train size: 512 \n",
      "Classes: [0, 2]\n"
     ]
    }
   ],
   "source": [
    "#@title Set the train size and select the classes to consider (Default is 0 and 2).\n",
    "\n",
    "train_size = 512 #@param {type:\"integer\"}\n",
    "class_to_consider = [0, 2] #@param {type:\"raw\"}\n",
    "num_class = len(class_to_consider)\n",
    "\n",
    "print('Train size: {0} \\nClasses: {1}'.format(train_size, class_to_consider))"
   ]
  },
  {
   "cell_type": "code",
   "execution_count": 5,
   "metadata": {
    "cellView": "form",
    "id": "xSpsvTAQjtm7"
   },
   "outputs": [],
   "source": [
    "#@title Restrict the train size and select the classes labels\n",
    "\n",
    "mask = train_labels == class_to_consider[0]\n",
    "\n",
    "for c in class_to_consider[1:]:\n",
    "  mask = mask + (train_labels == c)\n",
    "\n",
    "train_images = train_images[mask]\n",
    "train_labels = train_labels[mask]\n",
    "\n",
    "train_images = train_images[:train_size]\n",
    "train_labels = train_labels[:train_size]"
   ]
  },
  {
   "cell_type": "code",
   "execution_count": 6,
   "metadata": {
    "id": "SemxzkS1bOro"
   },
   "outputs": [],
   "source": [
    "# Buffer size must be big. \n",
    "# A rule of thumbs is to choose it equal\n",
    "# to the dataset size.\n",
    "\n",
    "BUFFER_SIZE = train_images.shape[0]\n",
    "BATCH_SIZE = 128"
   ]
  },
  {
   "cell_type": "code",
   "execution_count": 7,
   "metadata": {
    "cellView": "form",
    "id": "WBAgb3uvbiVO"
   },
   "outputs": [
    {
     "name": "stderr",
     "output_type": "stream",
     "text": [
      "2023-07-24 17:33:17.981770: I tensorflow/compiler/xla/stream_executor/cuda/cuda_gpu_executor.cc:995] successful NUMA node read from SysFS had negative value (-1), but there must be at least one NUMA node, so returning NUMA node zero. See more at https://github.com/torvalds/linux/blob/v6.0/Documentation/ABI/testing/sysfs-bus-pci#L344-L355\n",
      "2023-07-24 17:33:17.996430: I tensorflow/compiler/xla/stream_executor/cuda/cuda_gpu_executor.cc:995] successful NUMA node read from SysFS had negative value (-1), but there must be at least one NUMA node, so returning NUMA node zero. See more at https://github.com/torvalds/linux/blob/v6.0/Documentation/ABI/testing/sysfs-bus-pci#L344-L355\n",
      "2023-07-24 17:33:17.996616: I tensorflow/compiler/xla/stream_executor/cuda/cuda_gpu_executor.cc:995] successful NUMA node read from SysFS had negative value (-1), but there must be at least one NUMA node, so returning NUMA node zero. See more at https://github.com/torvalds/linux/blob/v6.0/Documentation/ABI/testing/sysfs-bus-pci#L344-L355\n",
      "2023-07-24 17:33:17.997823: I tensorflow/compiler/xla/stream_executor/cuda/cuda_gpu_executor.cc:995] successful NUMA node read from SysFS had negative value (-1), but there must be at least one NUMA node, so returning NUMA node zero. See more at https://github.com/torvalds/linux/blob/v6.0/Documentation/ABI/testing/sysfs-bus-pci#L344-L355\n",
      "2023-07-24 17:33:17.997969: I tensorflow/compiler/xla/stream_executor/cuda/cuda_gpu_executor.cc:995] successful NUMA node read from SysFS had negative value (-1), but there must be at least one NUMA node, so returning NUMA node zero. See more at https://github.com/torvalds/linux/blob/v6.0/Documentation/ABI/testing/sysfs-bus-pci#L344-L355\n",
      "2023-07-24 17:33:17.998395: I tensorflow/compiler/xla/stream_executor/cuda/cuda_gpu_executor.cc:995] successful NUMA node read from SysFS had negative value (-1), but there must be at least one NUMA node, so returning NUMA node zero. See more at https://github.com/torvalds/linux/blob/v6.0/Documentation/ABI/testing/sysfs-bus-pci#L344-L355\n",
      "2023-07-24 17:33:18.055366: I tensorflow/compiler/xla/stream_executor/cuda/cuda_gpu_executor.cc:995] successful NUMA node read from SysFS had negative value (-1), but there must be at least one NUMA node, so returning NUMA node zero. See more at https://github.com/torvalds/linux/blob/v6.0/Documentation/ABI/testing/sysfs-bus-pci#L344-L355\n",
      "2023-07-24 17:33:18.055532: I tensorflow/compiler/xla/stream_executor/cuda/cuda_gpu_executor.cc:995] successful NUMA node read from SysFS had negative value (-1), but there must be at least one NUMA node, so returning NUMA node zero. See more at https://github.com/torvalds/linux/blob/v6.0/Documentation/ABI/testing/sysfs-bus-pci#L344-L355\n",
      "2023-07-24 17:33:18.055656: I tensorflow/compiler/xla/stream_executor/cuda/cuda_gpu_executor.cc:995] successful NUMA node read from SysFS had negative value (-1), but there must be at least one NUMA node, so returning NUMA node zero. See more at https://github.com/torvalds/linux/blob/v6.0/Documentation/ABI/testing/sysfs-bus-pci#L344-L355\n",
      "2023-07-24 17:33:18.055751: I tensorflow/core/common_runtime/gpu/gpu_device.cc:1639] Created device /job:localhost/replica:0/task:0/device:GPU:0 with 558 MB memory:  -> device: 0, name: NVIDIA GeForce RTX 2080 Ti, pci bus id: 0000:01:00.0, compute capability: 7.5\n"
     ]
    }
   ],
   "source": [
    "#@title Make the dataset\n",
    "train_dataset = tf.data.Dataset.from_tensor_slices((train_images, train_labels)).shuffle(BUFFER_SIZE).batch(BATCH_SIZE).prefetch(tf.data.AUTOTUNE)"
   ]
  },
  {
   "cell_type": "markdown",
   "metadata": {
    "id": "kghQIj3FChRc"
   },
   "source": [
    "# Models"
   ]
  },
  {
   "cell_type": "code",
   "execution_count": 8,
   "metadata": {
    "id": "jB8Tu32CzIGo"
   },
   "outputs": [],
   "source": [
    "noise_dim = 128"
   ]
  },
  {
   "cell_type": "code",
   "execution_count": 9,
   "metadata": {
    "id": "jkfGbg0Cwb7A"
   },
   "outputs": [],
   "source": [
    "gen_input_shape = (noise_dim + num_class, )\n",
    "disc_input_shape = (train_images.shape[1],\n",
    "                    train_images.shape[2],\n",
    "                    1 + num_class,)"
   ]
  },
  {
   "cell_type": "code",
   "execution_count": 10,
   "metadata": {
    "id": "qP2n6BudbsWv"
   },
   "outputs": [],
   "source": [
    "def make_generator1():\n",
    "\n",
    "  model = tf.keras.Sequential(name='generator1')\n",
    "\n",
    "  model.add(layers.Dense(7*7*256, input_shape=gen_input_shape))\n",
    "  model.add(layers.BatchNormalization())\n",
    "  model.add(layers.LeakyReLU())\n",
    "\n",
    "  model.add(layers.Reshape([7, 7, 256]))\n",
    "  model.add(layers.Conv2DTranspose(128, 5, 1, 'same'))\n",
    "  model.add(layers.BatchNormalization())\n",
    "  model.add(layers.LeakyReLU())\n",
    "\n",
    "  model.add(layers.Conv2DTranspose(64, 5, 2, 'same'))\n",
    "  model.add(layers.BatchNormalization())\n",
    "  model.add(layers.LeakyReLU())\n",
    "\n",
    "  model.add(layers.Conv2DTranspose(1, 5, 2, 'same', activation='tanh'))\n",
    "\n",
    "  return model"
   ]
  },
  {
   "cell_type": "code",
   "execution_count": 11,
   "metadata": {
    "id": "xLkWmyqDhsbT"
   },
   "outputs": [],
   "source": [
    "def make_discriminator1():\n",
    "\n",
    "  model = tf.keras.Sequential(name='discriminator1')\n",
    "\n",
    "  model.add(layers.Conv2D(64, 5, 2, 'same', input_shape=disc_input_shape))\n",
    "  model.add(layers.LeakyReLU())\n",
    "  model.add(layers.Dropout(0.3))\n",
    "\n",
    "  model.add(layers.Conv2D(128, 5, 2, 'same'))\n",
    "  model.add(layers.LeakyReLU())\n",
    "  model.add(layers.Dropout(0.3))\n",
    "  \n",
    "  model.add(layers.Flatten())\n",
    "  model.add(layers.Dense(1))\n",
    "\n",
    "  return model"
   ]
  },
  {
   "cell_type": "code",
   "execution_count": 12,
   "metadata": {},
   "outputs": [
    {
     "name": "stdout",
     "output_type": "stream",
     "text": [
      "Model: \"generator1\"\n",
      "_________________________________________________________________\n",
      " Layer (type)                Output Shape              Param #   \n",
      "=================================================================\n",
      " dense (Dense)               (None, 12544)             1643264   \n",
      "                                                                 \n",
      " batch_normalization (Batch  (None, 12544)             50176     \n",
      " Normalization)                                                  \n",
      "                                                                 \n",
      " leaky_re_lu (LeakyReLU)     (None, 12544)             0         \n",
      "                                                                 \n",
      " reshape (Reshape)           (None, 7, 7, 256)         0         \n",
      "                                                                 \n",
      " conv2d_transpose (Conv2DTr  (None, 7, 7, 128)         819328    \n",
      " anspose)                                                        \n",
      "                                                                 \n",
      " batch_normalization_1 (Bat  (None, 7, 7, 128)         512       \n",
      " chNormalization)                                                \n",
      "                                                                 \n",
      " leaky_re_lu_1 (LeakyReLU)   (None, 7, 7, 128)         0         \n",
      "                                                                 \n",
      " conv2d_transpose_1 (Conv2D  (None, 14, 14, 64)        204864    \n",
      " Transpose)                                                      \n",
      "                                                                 \n",
      " batch_normalization_2 (Bat  (None, 14, 14, 64)        256       \n",
      " chNormalization)                                                \n",
      "                                                                 \n",
      " leaky_re_lu_2 (LeakyReLU)   (None, 14, 14, 64)        0         \n",
      "                                                                 \n",
      " conv2d_transpose_2 (Conv2D  (None, 28, 28, 1)         1601      \n",
      " Transpose)                                                      \n",
      "                                                                 \n",
      "=================================================================\n",
      "Total params: 2720001 (10.38 MB)\n",
      "Trainable params: 2694529 (10.28 MB)\n",
      "Non-trainable params: 25472 (99.50 KB)\n",
      "_________________________________________________________________\n"
     ]
    }
   ],
   "source": [
    "make_generator1().summary()"
   ]
  },
  {
   "cell_type": "code",
   "execution_count": 13,
   "metadata": {
    "id": "6xtzj9FuWLMW"
   },
   "outputs": [],
   "source": [
    "def upsample_block(\n",
    "    x,\n",
    "    filters,\n",
    "    activation,\n",
    "    kernel_size=(3, 3),\n",
    "    strides=(1, 1),\n",
    "    up_size=(2, 2),\n",
    "    padding=\"same\",\n",
    "    use_bn=False,\n",
    "    use_bias=True,\n",
    "    use_dropout=False,\n",
    "    drop_value=0.3,\n",
    "):\n",
    "    x = layers.UpSampling2D(up_size)(x)\n",
    "    x = layers.Conv2D(\n",
    "        filters, kernel_size, strides=strides, padding=padding, use_bias=use_bias\n",
    "    )(x)\n",
    "\n",
    "    if use_bn:\n",
    "        x = layers.BatchNormalization()(x)\n",
    "\n",
    "    if activation:\n",
    "        x = activation(x)\n",
    "    if use_dropout:\n",
    "        x = layers.Dropout(drop_value)(x)\n",
    "    return x\n",
    "\n",
    "\n",
    "def make_generator2():\n",
    "    noise = layers.Input(shape=gen_input_shape)\n",
    "    x = layers.Dense(4 * 4 * 256, use_bias=False)(noise)\n",
    "    x = layers.BatchNormalization()(x)\n",
    "    x = layers.LeakyReLU(0.2)(x)\n",
    "\n",
    "    x = layers.Reshape((4, 4, 256))(x)\n",
    "    x = upsample_block(\n",
    "        x,\n",
    "        128,\n",
    "        layers.LeakyReLU(0.2),\n",
    "        strides=(1, 1),\n",
    "        use_bias=False,\n",
    "        use_bn=True,\n",
    "        padding=\"same\",\n",
    "        use_dropout=False,\n",
    "    )\n",
    "    x = upsample_block(\n",
    "        x,\n",
    "        64,\n",
    "        layers.LeakyReLU(0.2),\n",
    "        strides=(1, 1),\n",
    "        use_bias=False,\n",
    "        use_bn=True,\n",
    "        padding=\"same\",\n",
    "        use_dropout=False,\n",
    "    )\n",
    "    x = upsample_block(\n",
    "        x, 1, layers.Activation(\"tanh\"), strides=(1, 1), use_bias=False, use_bn=True\n",
    "    )\n",
    "    # At this point, we have an output which has the same shape as the input, (32, 32, 1).\n",
    "    # We will use a Cropping2D layer to make it (28, 28, 1).\n",
    "    x = layers.Cropping2D((2, 2))(x)\n",
    "    \n",
    "    g_model = keras.models.Model(noise, x, name=\"generator2\")\n",
    "    return g_model"
   ]
  },
  {
   "cell_type": "code",
   "execution_count": 14,
   "metadata": {
    "id": "ciYOhNdWVo-a"
   },
   "outputs": [],
   "source": [
    "def conv_block(\n",
    "    x,\n",
    "    filters,\n",
    "    activation,\n",
    "    kernel_size=(3, 3),\n",
    "    strides=(1, 1),\n",
    "    padding=\"same\",\n",
    "    use_bias=True,\n",
    "    use_bn=False,\n",
    "    use_dropout=False,\n",
    "    drop_value=0.5,\n",
    "):\n",
    "    x = layers.Conv2D(\n",
    "        filters, kernel_size, strides=strides, padding=padding, use_bias=use_bias\n",
    "    )(x)\n",
    "    if use_bn:\n",
    "        x = layers.BatchNormalization()(x)\n",
    "    x = activation(x)\n",
    "    if use_dropout:\n",
    "        x = layers.Dropout(drop_value)(x)\n",
    "    return x\n",
    "\n",
    "def make_discriminator2():\n",
    "    img_input = layers.Input(shape=disc_input_shape)\n",
    "    # Zero pad the input to make the input images size to (32, 32, 1).\n",
    "    x = layers.ZeroPadding2D((2, 2))(img_input)\n",
    "    x = conv_block(\n",
    "        x,\n",
    "        64,\n",
    "        kernel_size=(5, 5),\n",
    "        strides=(2, 2),\n",
    "        use_bn=False,\n",
    "        use_bias=True,\n",
    "        activation=layers.LeakyReLU(0.2),\n",
    "        use_dropout=False,\n",
    "        drop_value=0.3,\n",
    "    )\n",
    "    x = conv_block(\n",
    "        x,\n",
    "        128,\n",
    "        kernel_size=(5, 5),\n",
    "        strides=(2, 2),\n",
    "        use_bn=False,\n",
    "        activation=layers.LeakyReLU(0.2),\n",
    "        use_bias=True,\n",
    "        use_dropout=True,\n",
    "        drop_value=0.3,\n",
    "    )\n",
    "    x = conv_block(\n",
    "        x,\n",
    "        256,\n",
    "        kernel_size=(5, 5),\n",
    "        strides=(2, 2),\n",
    "        use_bn=False,\n",
    "        activation=layers.LeakyReLU(0.2),\n",
    "        use_bias=True,\n",
    "        use_dropout=True,\n",
    "        drop_value=0.3,\n",
    "    )\n",
    "    x = conv_block(\n",
    "        x,\n",
    "        512,\n",
    "        kernel_size=(5, 5),\n",
    "        strides=(2, 2),\n",
    "        use_bn=False,\n",
    "        activation=layers.LeakyReLU(0.2),\n",
    "        use_bias=True,\n",
    "        use_dropout=False,\n",
    "        drop_value=0.3,\n",
    "    )\n",
    "\n",
    "    x = layers.Flatten()(x)\n",
    "    x = layers.Dropout(0.2)(x)\n",
    "    x = layers.Dense(1)(x)\n",
    "    \n",
    "    d_model = keras.models.Model(img_input, x, name=\"discriminator2\")\n",
    "    return d_model"
   ]
  },
  {
   "cell_type": "markdown",
   "metadata": {
    "id": "dGDnrZ8GExVt"
   },
   "source": [
    "# WcGAN-GP class"
   ]
  },
  {
   "cell_type": "code",
   "execution_count": 15,
   "metadata": {
    "id": "p5yjSb7XsVm7"
   },
   "outputs": [],
   "source": [
    "class WGAN(Model):\n",
    "    def __init__(self, discriminator, generator, latent_dim,\n",
    "                 d_extra_steps=3, gp_weight=10.0,):\n",
    "        super(WGAN, self).__init__()\n",
    "        self.discriminator = discriminator\n",
    "        self.generator = generator\n",
    "        self.latent_dim = latent_dim\n",
    "        self.d_extra_steps = d_extra_steps\n",
    "        self.gp_weight = gp_weight\n",
    "\n",
    "    def compile(self, disc_opt, gen_opt, d_loss_fn, g_loss_fn):\n",
    "        super(WGAN, self).compile()\n",
    "        self.disc_opt = disc_opt\n",
    "        self.gen_opt = gen_opt\n",
    "        self.d_loss_fn = d_loss_fn\n",
    "        self.g_loss_fn = g_loss_fn\n",
    "\n",
    "    def gradient_penalty(self, batch_size, real_images, fake_images):\n",
    "        \"\"\" Calculates the gradient penalty.\n",
    "\n",
    "            This loss is calculated on an interpolated image\n",
    "            and added to the discriminator loss.\n",
    "        \"\"\"\n",
    "        # Get the interpolated image\n",
    "        alpha = tf.random.normal([batch_size, 1, 1, 1])\n",
    "        interpolated = real_images * alpha + fake_images * (1 - alpha)\n",
    "\n",
    "        with tf.GradientTape() as gp_tape:\n",
    "            gp_tape.watch(interpolated)\n",
    "            # 1. Get the discriminator output for this interpolated image.\n",
    "            pred = self.discriminator(interpolated, training=True)\n",
    "\n",
    "        # 2. Calculate the gradients w.r.t to this interpolated image.\n",
    "        grads = gp_tape.gradient(pred, [interpolated])[0]\n",
    "        \n",
    "        # 3. Calculate the norm of the gradients.\n",
    "        norm = tf.sqrt(tf.reduce_sum(tf.square(grads), axis=[1, 2, 3]))\n",
    "        gp = tf.reduce_mean((norm - 1.0) ** 2)\n",
    "        \n",
    "        return gp\n",
    "\n",
    "    # Override the training step function of the Model class\n",
    "    def train_step(self, data):\n",
    "\n",
    "      images, labels = data\n",
    "\n",
    "      batch_size = tf.shape(images)[0]\n",
    "\n",
    "      one_hot_labels = tf.one_hot(labels, depth=num_class)\n",
    "\n",
    "      image_one_hot_labels = tf.repeat(one_hot_labels,\n",
    "                                 repeats=[disc_input_shape[0] * disc_input_shape[1]])\n",
    "\n",
    "      image_one_hot_labels = tf.reshape(image_one_hot_labels,\n",
    "                                        (-1, disc_input_shape[0], disc_input_shape[1], num_class))\n",
    "\n",
    "      #---------Discriminator loop--------------\n",
    "\n",
    "      for i in range(self.d_extra_steps):\n",
    "\n",
    "        noise = tf.random.normal([batch_size, self.latent_dim])\n",
    "\n",
    "        noise_labels = tf.concat([noise, one_hot_labels], axis=1)\n",
    "\n",
    "        with tf.GradientTape() as disc_tape:\n",
    "          \n",
    "          G_output = self.generator(noise_labels, training=True)\n",
    "          G_output = tf.concat([G_output, image_one_hot_labels], -1)\n",
    "          images_and_labels = tf.concat([images, image_one_hot_labels], -1)\n",
    "  \n",
    "          D_fake_pred = self.discriminator(G_output, training=True)\n",
    "\n",
    "          D_real_pred = self.discriminator(images_and_labels, training=True)\n",
    "\n",
    "          gp = self.gradient_penalty(batch_size, images_and_labels, G_output)\n",
    "          D_loss = self.d_loss_fn(D_real_pred, D_fake_pred, self.gp_weight, gp)\n",
    "\n",
    "        D_grad = disc_tape.gradient(D_loss, self.discriminator.trainable_variables)\n",
    "        disc_opt.apply_gradients(zip(D_grad, self.discriminator.trainable_variables))\n",
    "      \n",
    "      #------Generator loop-------------\n",
    "\n",
    "      noise = tf.random.normal([batch_size, self.latent_dim])\n",
    "\n",
    "      noise_labels = tf.concat([noise, one_hot_labels], axis=1)\n",
    "\n",
    "      with tf.GradientTape() as gen_tape:\n",
    "\n",
    "        G_output = self.generator(noise_labels, training=True)\n",
    "        G_output = tf.concat([G_output, image_one_hot_labels], -1)\n",
    "\n",
    "        D_fake_pred = self.discriminator(G_output, training=True)\n",
    "\n",
    "        G_loss = self.g_loss_fn(D_fake_pred)\n",
    "\n",
    "      G_grad = gen_tape.gradient(G_loss, self.generator.trainable_variables)\n",
    "      gen_opt.apply_gradients(zip(G_grad, self.generator.trainable_variables))\n",
    "\n",
    "      return {'d_loss': D_loss, \"g_loss\": G_loss}"
   ]
  },
  {
   "cell_type": "markdown",
   "metadata": {
    "id": "xA9WbvFpF64H"
   },
   "source": [
    "# Callbacks"
   ]
  },
  {
   "cell_type": "code",
   "execution_count": 16,
   "metadata": {
    "colab": {
     "base_uri": "https://localhost:8080/"
    },
    "id": "j4gev3GopsAM",
    "outputId": "a1c993ce-1114-48a8-932c-3d5ad0619b3d"
   },
   "outputs": [
    {
     "name": "stdout",
     "output_type": "stream",
     "text": [
      "Path logs: logs/Model-2\n"
     ]
    }
   ],
   "source": [
    "#@title Path to save the callbacks\n",
    "logdir = \"logs/Model-2\"#os.path.join(\"logs\", datetime.datetime.now().strftime(\"%Y-%m-%d_%H:%M:%S\"))\n",
    "\n",
    "image_writer = tf.summary.create_file_writer(logdir + '/img')\n",
    "\n",
    "print('Path logs: {0}'.format(logdir))"
   ]
  },
  {
   "cell_type": "code",
   "execution_count": 17,
   "metadata": {
    "id": "TrrAT4p3LD1R"
   },
   "outputs": [
    {
     "name": "stderr",
     "output_type": "stream",
     "text": [
      "2023-07-24 17:33:18.294345: I tensorflow/tsl/profiler/lib/profiler_session.cc:104] Profiler session initializing.\n",
      "2023-07-24 17:33:18.294360: I tensorflow/tsl/profiler/lib/profiler_session.cc:119] Profiler session started.\n",
      "2023-07-24 17:33:18.294391: I tensorflow/compiler/xla/backends/profiler/gpu/cupti_tracer.cc:1671] Profiler found 1 GPUs\n",
      "2023-07-24 17:33:18.302165: I tensorflow/tsl/profiler/lib/profiler_session.cc:131] Profiler session tear down.\n",
      "2023-07-24 17:33:18.302273: I tensorflow/compiler/xla/backends/profiler/gpu/cupti_tracer.cc:1805] CUPTI activity buffer flushed\n"
     ]
    }
   ],
   "source": [
    "tensorboard_callback = tf.keras.callbacks.TensorBoard(logdir,\n",
    "                                                      histogram_freq=5,\n",
    "                                                      profile_batch = '2,3')"
   ]
  },
  {
   "cell_type": "markdown",
   "metadata": {
    "id": "v6RCaCLGF-Px"
   },
   "source": [
    "### Help functions"
   ]
  },
  {
   "cell_type": "code",
   "execution_count": 18,
   "metadata": {
    "id": "nnmBlcC_qc8J"
   },
   "outputs": [],
   "source": [
    "def plot_to_image(figure):\n",
    "\n",
    "  \"\"\"Converts the matplotlib plot specified by 'figure' to a PNG image and\n",
    "  returns it. The supplied figure is closed and inaccessible after this call.\"\"\"\n",
    "  \n",
    "  # Save the plot to a PNG in memory.\n",
    "  buf = io.BytesIO()\n",
    "  plt.savefig(buf, format='png')\n",
    "\n",
    "  # Closing the figure prevents it from being displayed directly inside\n",
    "  # the notebook.\n",
    "  plt.close(figure)\n",
    "  buf.seek(0)\n",
    "\n",
    "  # Convert PNG buffer to TF image\n",
    "  image = tf.image.decode_png(buf.getvalue(), channels=4)\n",
    "  \n",
    "  # Add the batch dimension\n",
    "  image = tf.expand_dims(image, 0)\n",
    "\n",
    "  return image"
   ]
  },
  {
   "cell_type": "markdown",
   "metadata": {
    "id": "zH07XncpGDsS"
   },
   "source": [
    "### **GeneratorImages**: callback to save images for TensorBoard\n",
    "\n",
    "> **Warning**: This function use matplotlib and will slowdown the code, consider exclude GeneratorImages from the callback calls in model.fit()."
   ]
  },
  {
   "cell_type": "code",
   "execution_count": 19,
   "metadata": {
    "id": "lxO-WW1910Ko"
   },
   "outputs": [],
   "source": [
    "class GeneratorImages(keras.callbacks.Callback):\n",
    "  def __init__(self, fixed_seed, save_step=10):\n",
    "    self.fixed_seed = fixed_seed\n",
    "    self.save_step = save_step\n",
    "\n",
    "  def on_epoch_end(self, epoch, logs=None):\n",
    "\n",
    "    if epoch % self.save_step == 0:\n",
    "\n",
    "      display.clear_output(wait=True)\n",
    "      print('Epoch {0}'.format(epoch + 1))\n",
    "\n",
    "      labels = tf.range(0, num_class)\n",
    "      one_hot_labels = tf.one_hot(labels, num_class)\n",
    "      noise_labels = tf.concat([self.fixed_seed, one_hot_labels], axis=1)\n",
    "      predictions = self.model.generator(noise_labels, training=False)\n",
    "\n",
    "      predictions_img = predictions[:, :, :, :] * 255\n",
    "      \n",
    "      fig = plt.figure(figsize=(8, 8))\n",
    "\n",
    "      for i in range(predictions_img.shape[0]):\n",
    "        plt.imshow(predictions_img[i, :, :], cmap='gray')\n",
    "        plt.axis('off')\n",
    "\n",
    "        with image_writer.as_default():\n",
    "          tf.summary.image(\"Generator Images - {}\".format(i), plot_to_image(fig), step=epoch)"
   ]
  },
  {
   "cell_type": "markdown",
   "metadata": {
    "id": "YeM9gJ08HfrM"
   },
   "source": [
    "# Loss function"
   ]
  },
  {
   "cell_type": "code",
   "execution_count": 20,
   "metadata": {
    "id": "fhbYOIyS_cz7"
   },
   "outputs": [],
   "source": [
    "def W_gen_loss(fake_pred):\n",
    "  return -tf.reduce_mean(fake_pred)\n",
    "\n",
    "def W_disc_loss(real_pred, fake_pred, eps, grad_pen):\n",
    "  return -tf.reduce_mean(real_pred) + tf.reduce_mean(fake_pred) + eps * grad_pen"
   ]
  },
  {
   "cell_type": "markdown",
   "metadata": {
    "id": "RiHEQRTRHlvf"
   },
   "source": [
    "# Model build and compile\n",
    "\n",
    "There are two models that can be used:\n",
    "\n",
    "  1. `make_generator1()` or `make_discriminator1()`\n",
    "  2. `make_generator2()` or `make_discriminator2()`\n",
    "\n",
    "> By default `make_discriminator2()` and `make_generator2()` are used because they give better results."
   ]
  },
  {
   "cell_type": "code",
   "execution_count": 21,
   "metadata": {
    "id": "DeBung0fy7I_"
   },
   "outputs": [],
   "source": [
    "Generator = make_generator2()\n",
    "Discriminator = make_discriminator2()"
   ]
  },
  {
   "cell_type": "code",
   "execution_count": 22,
   "metadata": {
    "id": "yNdX8bMTRBRm"
   },
   "outputs": [],
   "source": [
    "disc_opt = keras.optimizers.Adam(learning_rate=0.0002, beta_1=0.5, beta_2=0.9)\n",
    "gen_opt = keras.optimizers.Adam(learning_rate=0.0002, beta_1=0.5, beta_2=0.9)"
   ]
  },
  {
   "cell_type": "code",
   "execution_count": 23,
   "metadata": {
    "id": "em1OC_WTsVkp"
   },
   "outputs": [],
   "source": [
    "model = WGAN(Discriminator, Generator, noise_dim, d_extra_steps=3)"
   ]
  },
  {
   "cell_type": "code",
   "execution_count": 24,
   "metadata": {
    "id": "fcKSMU0XsVij"
   },
   "outputs": [],
   "source": [
    "model.compile(disc_opt, gen_opt, W_disc_loss, W_gen_loss)"
   ]
  },
  {
   "cell_type": "markdown",
   "metadata": {
    "id": "fDHWOUfLI9Ym"
   },
   "source": [
    "# Model train"
   ]
  },
  {
   "cell_type": "code",
   "execution_count": 25,
   "metadata": {
    "cellView": "form",
    "id": "auBcxksOJmWf"
   },
   "outputs": [],
   "source": [
    "#@title \n",
    "EPOCH =  700#@param {type:\"integer\"}"
   ]
  },
  {
   "cell_type": "code",
   "execution_count": 26,
   "metadata": {
    "id": "-6d16pXHmSth"
   },
   "outputs": [],
   "source": [
    "# Seed used to creat new images at every epoch using the Generator.\n",
    "# With a fixed seed, it is possible to see how the generator improves\n",
    "# at every epoch.\n",
    "fixed_seed = tf.random.normal([num_class, noise_dim], seed=42)"
   ]
  },
  {
   "cell_type": "code",
   "execution_count": 27,
   "metadata": {
    "colab": {
     "base_uri": "https://localhost:8080/"
    },
    "id": "LZISf4b8sVgT",
    "outputId": "a74d86a0-e8b4-4537-80a2-ab1e4077494e"
   },
   "outputs": [
    {
     "name": "stdout",
     "output_type": "stream",
     "text": [
      "Epoch 1\n",
      "4/4 [==============================] - 8s 466ms/step - d_loss: -7.7614 - g_loss: -1.8203\n",
      "Epoch 2/3\n",
      "4/4 [==============================] - 1s 193ms/step - d_loss: -24.9589 - g_loss: -10.9971\n",
      "Epoch 3/3\n",
      "4/4 [==============================] - 1s 191ms/step - d_loss: -20.4475 - g_loss: -19.9918\n"
     ]
    },
    {
     "data": {
      "image/png": "[encoded data removed]",
      "text/plain": [
       "<Figure size 640x480 with 1 Axes>"
      ]
     },
     "metadata": {},
     "output_type": "display_data"
    }
   ],
   "source": [
    "hist = model.fit(train_dataset,\n",
    "                 batch_size=BATCH_SIZE,\n",
    "                 epochs=3,\n",
    "                 callbacks=[GeneratorImages(fixed_seed),\n",
    "                            tensorboard_callback,\n",
    "                            ]\n",
    "                 )"
   ]
  },
  {
   "cell_type": "markdown",
   "metadata": {
    "id": "2lHcdW-tPXBq"
   },
   "source": [
    "# Generate new images using the Discriminator"
   ]
  },
  {
   "cell_type": "code",
   "execution_count": 28,
   "metadata": {
    "cellView": "form",
    "colab": {
     "base_uri": "https://localhost:8080/",
     "height": 517
    },
    "id": "C1G-eV4nCvHk",
    "outputId": "57b8cac6-1659-42db-81c3-26a578582949"
   },
   "outputs": [
    {
     "data": {
      "image/png": "[encoded data removed]",
      "text/plain": [
       "<Figure size 300x200 with 2 Axes>"
      ]
     },
     "metadata": {},
     "output_type": "display_data"
    },
    {
     "data": {
      "image/png": "[encoded data removed]",
      "text/plain": [
       "<Figure size 300x200 with 2 Axes>"
      ]
     },
     "metadata": {},
     "output_type": "display_data"
    },
    {
     "data": {
      "image/png": "[encoded data removed]",
      "text/plain": [
       "<Figure size 300x200 with 2 Axes>"
      ]
     },
     "metadata": {},
     "output_type": "display_data"
    },
    {
     "data": {
      "image/png": "[encoded data removed]",
      "text/plain": [
       "<Figure size 300x200 with 2 Axes>"
      ]
     },
     "metadata": {},
     "output_type": "display_data"
    }
   ],
   "source": [
    "#@title Number o images\n",
    "n_images = 4 #@param {type:\"integer\"}\n",
    "\n",
    "plt.close()\n",
    "\n",
    "for _ in range(n_images):\n",
    "  \n",
    "  fixed_seed = tf.random.normal([num_class, noise_dim])\n",
    "\n",
    "  labels = tf.range(0, num_class)\n",
    "  one_hot_labels = tf.one_hot(labels, num_class)\n",
    "  noise_labels = tf.concat([fixed_seed, one_hot_labels], axis=1)\n",
    "  predictions = Generator(noise_labels, training=False)\n",
    "\n",
    "  fig = plt.figure(figsize=(num_class+1, 2))\n",
    "\n",
    "  for i in range(predictions.shape[0]):\n",
    "      plt.subplot(1, num_class, i+1)\n",
    "      plt.imshow(predictions[i, :, :, 0] * 127.5 + 127.5, cmap='gray')\n",
    "      plt.axis('off')\n",
    "\n",
    "  plt.show()"
   ]
  },
  {
   "cell_type": "code",
   "execution_count": null,
   "metadata": {},
   "outputs": [],
   "source": []
  }
 ],
 "metadata": {
  "accelerator": "GPU",
  "colab": {
   "collapsed_sections": [
    "hHr6fnk6hyi3",
    "EPIm-RHcCdo5",
    "kghQIj3FChRc",
    "dGDnrZ8GExVt",
    "xA9WbvFpF64H",
    "v6RCaCLGF-Px",
    "zH07XncpGDsS",
    "YeM9gJ08HfrM",
    "RiHEQRTRHlvf",
    "fDHWOUfLI9Ym"
   ],
   "include_colab_link": true,
   "name": "WcGAN-GP (MNIST).ipynb",
   "provenance": []
  },
  "kernelspec": {
   "display_name": "Python 3 (ipykernel)",
   "language": "python",
   "name": "python3"
  },
  "language_info": {
   "codemirror_mode": {
    "name": "ipython",
    "version": 3
   },
   "file_extension": ".py",
   "mimetype": "text/x-python",
   "name": "python",
   "nbconvert_exporter": "python",
   "pygments_lexer": "ipython3",
   "version": "3.10.9"
  }
 },
 "nbformat": 4,
 "nbformat_minor": 1
}
