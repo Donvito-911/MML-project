{
 "cells": [
  {
   "cell_type": "markdown",
   "id": "1b184bba",
   "metadata": {},
   "source": [
    "# Setup"
   ]
  },
  {
   "cell_type": "code",
   "execution_count": 1,
   "id": "a0114c44",
   "metadata": {
    "ExecuteTime": {
     "end_time": "2023-07-24T19:27:38.575835876Z",
     "start_time": "2023-07-24T19:27:37.335854044Z"
    }
   },
   "outputs": [
    {
     "name": "stderr",
     "output_type": "stream",
     "text": [
      "2023-07-24 14:27:37.450589: I tensorflow/tsl/cuda/cudart_stub.cc:28] Could not find cuda drivers on your machine, GPU will not be used.\n",
      "2023-07-24 14:27:37.472531: I tensorflow/tsl/cuda/cudart_stub.cc:28] Could not find cuda drivers on your machine, GPU will not be used.\n",
      "2023-07-24 14:27:37.472946: I tensorflow/core/platform/cpu_feature_guard.cc:182] This TensorFlow binary is optimized to use available CPU instructions in performance-critical operations.\n",
      "To enable the following instructions: AVX2 FMA, in other operations, rebuild TensorFlow with the appropriate compiler flags.\n",
      "2023-07-24 14:27:37.889071: W tensorflow/compiler/tf2tensorrt/utils/py_utils.cc:38] TF-TRT Warning: Could not find TensorRT\n"
     ]
    }
   ],
   "source": [
    "import warnings\n",
    "import numpy as np\n",
    "from keras.layers import Input, Dense, Lambda, Concatenate, Conv2D, Conv2DTranspose, Flatten, Reshape\n",
    "from keras.models import Model\n",
    "# import tensorflow.keras.backend as K\n",
    "from keras import backend as K\n",
    "from keras.datasets import mnist\n",
    "from keras.utils import to_categorical\n",
    "from keras.callbacks import EarlyStopping\n",
    "from keras.optimizers.legacy import Adam\n",
    "from keras.utils import plot_model\n",
    "\n",
    "import matplotlib.pyplot as plt\n",
    "from tensorflow.python.framework.ops import disable_eager_execution\n",
    "disable_eager_execution()\n",
    "\n",
    "# import tensorflow._api.v2.compat.v1 as tf\n",
    "# tf.disable_v2_behavior()\n",
    "warnings.filterwarnings('ignore')"
   ]
  },
  {
   "cell_type": "markdown",
   "id": "c2350570",
   "metadata": {},
   "source": [
    " # CVAE simple"
   ]
  },
  {
   "cell_type": "markdown",
   "id": "e778b296",
   "metadata": {},
   "source": [
    "## Data processing"
   ]
  },
  {
   "cell_type": "code",
   "execution_count": 2,
   "id": "41b6e3bf",
   "metadata": {
    "ExecuteTime": {
     "end_time": "2023-07-24T19:27:43.464850946Z",
     "start_time": "2023-07-24T19:27:43.315033587Z"
    }
   },
   "outputs": [],
   "source": [
    "(X_train, Y_train), (X_test, Y_test) = mnist.load_data()\n",
    "X_train = X_train.astype('float32') / 255.\n",
    "X_test = X_test.astype('float32') / 255.\n",
    "\n",
    "n_pixels = np.prod(X_train.shape[1:])\n",
    "X_train = X_train.reshape((len(X_train), n_pixels))\n",
    "X_test = X_test.reshape((len(X_test), n_pixels))\n",
    "y_train = to_categorical(Y_train)\n",
    "y_test = to_categorical(Y_test)"
   ]
  },
  {
   "cell_type": "markdown",
   "id": "7b5ade0a",
   "metadata": {},
   "source": [
    "## Modelamiento\n",
    "### Hiperparámetros"
   ]
  },
  {
   "cell_type": "code",
   "execution_count": 3,
   "id": "7f1a0ffb",
   "metadata": {
    "ExecuteTime": {
     "end_time": "2023-07-24T19:27:44.780689197Z",
     "start_time": "2023-07-24T19:27:44.776864160Z"
    }
   },
   "outputs": [],
   "source": [
    "batch_size = 250 # batch size\n",
    "latent_dim = 2 # latent space size\n",
    "optim = Adam(lr=0.001)\n",
    "n_x = X_train.shape[1]\n",
    "n_y = y_train.shape[1]\n",
    "n_epoch = 50"
   ]
  },
  {
   "cell_type": "markdown",
   "id": "b64eb223",
   "metadata": {},
   "source": [
    "### Encoder"
   ]
  },
  {
   "cell_type": "code",
   "execution_count": 4,
   "id": "167bdde6",
   "metadata": {
    "ExecuteTime": {
     "end_time": "2023-07-24T19:27:46.170949843Z",
     "start_time": "2023-07-24T19:27:46.128631995Z"
    }
   },
   "outputs": [],
   "source": [
    "encoder_inp1 = Input(shape=(n_x,), name=\"input_image\")\n",
    "encoder_inp2 = Input(shape=(n_y,), name=\"input_label\")\n",
    "enc_concat = Concatenate(name=\"encoder_concatenate\")([encoder_inp1, encoder_inp2])\n",
    "encoder_hidden = Dense(512, name=\"hidden_layer\")(enc_concat)\n",
    "mu = Dense(latent_dim, activation='linear', name=\"mu\")(encoder_hidden)\n",
    "l_sigma = Dense(latent_dim, activation='linear', name=\"l_sigma\")(encoder_hidden)\n",
    "def sample_z(args):\n",
    "    mu, l_sigma = args\n",
    "    eps = K.random_normal(shape=(latent_dim, ), mean=0., stddev=1.) # shape antes => (batch_size, latent_dim)\n",
    "    return mu + K.exp(l_sigma / 2) * eps\n",
    "z = Lambda(sample_z, output_shape = (latent_dim, ), name=\"latent_vector\")([mu, l_sigma]) # output encoder\n",
    "\n",
    "encoder = Model([encoder_inp1, encoder_inp2], z, name=\"encoder\")"
   ]
  },
  {
   "cell_type": "code",
   "execution_count": 6,
   "outputs": [
    {
     "name": "stdout",
     "output_type": "stream",
     "text": [
      "Model: \"encoder\"\n",
      "__________________________________________________________________________________________________\n",
      " Layer (type)                Output Shape                 Param #   Connected to                  \n",
      "==================================================================================================\n",
      " input_image (InputLayer)    [(None, 784)]                0         []                            \n",
      "                                                                                                  \n",
      " input_label (InputLayer)    [(None, 10)]                 0         []                            \n",
      "                                                                                                  \n",
      " encoder_concatenate (Conca  (None, 794)                  0         ['input_image[0][0]',         \n",
      " tenate)                                                             'input_label[0][0]']         \n",
      "                                                                                                  \n",
      " hidden_layer (Dense)        (None, 512)                  407040    ['encoder_concatenate[0][0]'] \n",
      "                                                                                                  \n",
      " mu (Dense)                  (None, 2)                    1026      ['hidden_layer[0][0]']        \n",
      "                                                                                                  \n",
      " l_sigma (Dense)             (None, 2)                    1026      ['hidden_layer[0][0]']        \n",
      "                                                                                                  \n",
      " latent_vector (Lambda)      (None, 2)                    0         ['mu[0][0]',                  \n",
      "                                                                     'l_sigma[0][0]']             \n",
      "                                                                                                  \n",
      "==================================================================================================\n",
      "Total params: 409092 (1.56 MB)\n",
      "Trainable params: 409092 (1.56 MB)\n",
      "Non-trainable params: 0 (0.00 Byte)\n",
      "__________________________________________________________________________________________________\n"
     ]
    }
   ],
   "source": [
    "encoder.summary()"
   ],
   "metadata": {
    "collapsed": false,
    "ExecuteTime": {
     "end_time": "2023-07-24T19:28:11.564417419Z",
     "start_time": "2023-07-24T19:28:11.517475434Z"
    }
   }
  },
  {
   "cell_type": "markdown",
   "id": "7875777a",
   "metadata": {},
   "source": [
    "### Decoder"
   ]
  },
  {
   "cell_type": "code",
   "execution_count": 7,
   "id": "148b2dca",
   "metadata": {
    "ExecuteTime": {
     "end_time": "2023-07-24T19:29:34.296378522Z",
     "start_time": "2023-07-24T19:29:34.249766211Z"
    }
   },
   "outputs": [
    {
     "name": "stdout",
     "output_type": "stream",
     "text": [
      "Model: \"decoder\"\n",
      "__________________________________________________________________________________________________\n",
      " Layer (type)                Output Shape                 Param #   Connected to                  \n",
      "==================================================================================================\n",
      " input_latent_vector (Input  [(None, 2)]                  0         []                            \n",
      " Layer)                                                                                           \n",
      "                                                                                                  \n",
      " input_label (InputLayer)    [(None, 10)]                 0         []                            \n",
      "                                                                                                  \n",
      " decoder_concat (Concatenat  (None, 12)                   0         ['input_latent_vector[0][0]', \n",
      " e)                                                                  'input_label[0][0]']         \n",
      "                                                                                                  \n",
      " hidden_layer (Dense)        (None, 512)                  6656      ['decoder_concat[0][0]']      \n",
      "                                                                                                  \n",
      " output_img (Dense)          (None, 784)                  402192    ['hidden_layer[0][0]']        \n",
      "                                                                                                  \n",
      "==================================================================================================\n",
      "Total params: 408848 (1.56 MB)\n",
      "Trainable params: 408848 (1.56 MB)\n",
      "Non-trainable params: 0 (0.00 Byte)\n",
      "__________________________________________________________________________________________________\n"
     ]
    }
   ],
   "source": [
    "decoder_inp1 = Input(shape=(latent_dim), name=\"input_latent_vector\")\n",
    "decoder_inp2 = Input(shape=(n_y), name = \"input_label\")\n",
    "dec_concat = Concatenate(name=\"decoder_concat\")([decoder_inp1, decoder_inp2]) \n",
    "decoder_hidden = Dense(512, activation=\"relu\", name=\"hidden_layer\")(dec_concat)\n",
    "output = Dense(n_x, activation=\"sigmoid\", name=\"output_img\")(decoder_hidden) # output img\n",
    "decoder = Model([decoder_inp1, decoder_inp2], output, name=\"decoder\")\n",
    "decoder.summary()"
   ]
  },
  {
   "cell_type": "markdown",
   "id": "eb7e48ae",
   "metadata": {},
   "source": [
    "### Conditional variational autoencoder"
   ]
  },
  {
   "cell_type": "code",
   "execution_count": 8,
   "id": "5672485c",
   "metadata": {
    "ExecuteTime": {
     "end_time": "2023-07-24T19:30:56.616316764Z",
     "start_time": "2023-07-24T19:30:56.574813439Z"
    }
   },
   "outputs": [
    {
     "name": "stdout",
     "output_type": "stream",
     "text": [
      "Model: \"CVAE\"\n",
      "__________________________________________________________________________________________________\n",
      " Layer (type)                Output Shape                 Param #   Connected to                  \n",
      "==================================================================================================\n",
      " input_image (InputLayer)    [(None, 784)]                0         []                            \n",
      "                                                                                                  \n",
      " input_label (InputLayer)    [(None, 10)]                 0         []                            \n",
      "                                                                                                  \n",
      " encoder (Functional)        (None, 2)                    409092    ['input_image[0][0]',         \n",
      "                                                                     'input_label[0][0]']         \n",
      "                                                                                                  \n",
      " decoder (Functional)        (None, 784)                  408848    ['encoder[0][0]',             \n",
      "                                                                     'input_label[0][0]']         \n",
      "                                                                                                  \n",
      "==================================================================================================\n",
      "Total params: 817940 (3.12 MB)\n",
      "Trainable params: 817940 (3.12 MB)\n",
      "Non-trainable params: 0 (0.00 Byte)\n",
      "__________________________________________________________________________________________________\n"
     ]
    }
   ],
   "source": [
    "latent_vector = encoder(inputs=[encoder_inp1, encoder_inp2]) # z\n",
    "output_img = decoder(inputs=[latent_vector, encoder_inp2])\n",
    "CVAE = Model(inputs=[encoder_inp1, encoder_inp2], outputs=output_img, name=\"CVAE\")\n",
    "CVAE.summary()"
   ]
  },
  {
   "cell_type": "markdown",
   "id": "99ff524a",
   "metadata": {},
   "source": [
    "## Entrenamiento"
   ]
  },
  {
   "cell_type": "code",
   "execution_count": 9,
   "id": "ce9d492a",
   "metadata": {
    "ExecuteTime": {
     "end_time": "2023-07-24T19:31:15.719988055Z",
     "start_time": "2023-07-24T19:31:15.678398401Z"
    }
   },
   "outputs": [],
   "source": [
    "def vae_loss(y_true, y_pred):\n",
    "    recon = recon_loss(y_true, y_pred)\n",
    "    kl = KL_loss(y_true, y_pred)\n",
    "    return recon + kl\n",
    "\n",
    "def KL_loss(y_true, y_pred): # it doesnt use y_true and y_pred but the parameters are necessary for compiling\n",
    "     # importante se usan las capas de mu y sigma del encoder\n",
    "\treturn(0.5 * K.sum(K.exp(l_sigma) + K.square(mu) - 1. - l_sigma, axis=1))\n",
    "\n",
    "def recon_loss(y_true, y_pred):\n",
    "\treturn K.sum(K.binary_crossentropy(y_true, y_pred), axis=-1)"
   ]
  },
  {
   "cell_type": "code",
   "execution_count": 10,
   "id": "d6dddcdb",
   "metadata": {
    "ExecuteTime": {
     "end_time": "2023-07-24T19:31:18.180885285Z",
     "start_time": "2023-07-24T19:31:18.109926059Z"
    }
   },
   "outputs": [],
   "source": [
    "CVAE.compile(optimizer=optim, loss=vae_loss, metrics = [KL_loss, recon_loss])"
   ]
  },
  {
   "cell_type": "code",
   "execution_count": 11,
   "id": "10db0db9",
   "metadata": {
    "scrolled": true,
    "ExecuteTime": {
     "end_time": "2023-07-24T19:31:51.819898471Z",
     "start_time": "2023-07-24T19:31:19.699999794Z"
    }
   },
   "outputs": [
    {
     "name": "stdout",
     "output_type": "stream",
     "text": [
      "Train on 60000 samples, validate on 10000 samples\n",
      "Epoch 1/50\n",
      " 2750/60000 [>.............................] - ETA: 2s - loss: 461.1898 - KL_loss: 32.0418 - recon_loss: 429.1480"
     ]
    },
    {
     "name": "stderr",
     "output_type": "stream",
     "text": [
      "2023-07-24 14:31:19.807275: E tensorflow/compiler/xla/stream_executor/cuda/cuda_driver.cc:268] failed call to cuInit: CUDA_ERROR_UNKNOWN: unknown error\n",
      "2023-07-24 14:31:19.807296: I tensorflow/compiler/xla/stream_executor/cuda/cuda_diagnostics.cc:168] retrieving CUDA diagnostic information for host: mordor\n",
      "2023-07-24 14:31:19.807299: I tensorflow/compiler/xla/stream_executor/cuda/cuda_diagnostics.cc:175] hostname: mordor\n",
      "2023-07-24 14:31:19.807359: I tensorflow/compiler/xla/stream_executor/cuda/cuda_diagnostics.cc:199] libcuda reported version is: 525.116.4\n",
      "2023-07-24 14:31:19.807370: I tensorflow/compiler/xla/stream_executor/cuda/cuda_diagnostics.cc:203] kernel reported version is: 525.116.4\n",
      "2023-07-24 14:31:19.807372: I tensorflow/compiler/xla/stream_executor/cuda/cuda_diagnostics.cc:309] kernel version seems to match DSO: 525.116.4\n",
      "2023-07-24 14:31:19.816872: I tensorflow/compiler/mlir/mlir_graph_optimization_pass.cc:375] MLIR V1 optimization pass is not enabled\n",
      "2023-07-24 14:31:19.833023: W tensorflow/c/c_api.cc:304] Operation '{name:'training/Adam/hidden_layer_1/bias/m/Assign' id:563 op device:{requested: '', assigned: ''} def:{{{node training/Adam/hidden_layer_1/bias/m/Assign}} = AssignVariableOp[_has_manual_control_dependencies=true, dtype=DT_FLOAT, validate_shape=false](training/Adam/hidden_layer_1/bias/m, training/Adam/hidden_layer_1/bias/m/Initializer/zeros)}}' was changed by setting attribute after it was run by a session. This mutation will have no effect, and will trigger an error in the future. Either don't modify nodes after running them or create a new session.\n"
     ]
    },
    {
     "name": "stdout",
     "output_type": "stream",
     "text": [
      "60000/60000 [==============================] - 1s 22us/sample - loss: 202.5425 - KL_loss: 10.9922 - recon_loss: 191.5504 - val_loss: 161.0123 - val_KL_loss: 5.1330 - val_recon_loss: 155.8793\n",
      "Epoch 2/50\n",
      " 2750/60000 [>.............................] - ETA: 1s - loss: 159.2400 - KL_loss: 4.7063 - recon_loss: 154.5337"
     ]
    },
    {
     "name": "stderr",
     "output_type": "stream",
     "text": [
      "2023-07-24 14:31:21.108865: W tensorflow/c/c_api.cc:304] Operation '{name:'loss/mul' id:278 op device:{requested: '', assigned: ''} def:{{{node loss/mul}} = Mul[T=DT_FLOAT, _has_manual_control_dependencies=true](loss/mul/x, loss/decoder_loss/value)}}' was changed by setting attribute after it was run by a session. This mutation will have no effect, and will trigger an error in the future. Either don't modify nodes after running them or create a new session.\n"
     ]
    },
    {
     "name": "stdout",
     "output_type": "stream",
     "text": [
      "60000/60000 [==============================] - 1s 20us/sample - loss: 155.5990 - KL_loss: 4.7612 - recon_loss: 150.8379 - val_loss: 150.4927 - val_KL_loss: 4.1087 - val_recon_loss: 146.3840\n",
      "Epoch 3/50\n",
      "60000/60000 [==============================] - 1s 20us/sample - loss: 149.9958 - KL_loss: 4.5659 - recon_loss: 145.4299 - val_loss: 146.7016 - val_KL_loss: 4.1735 - val_recon_loss: 142.5281\n",
      "Epoch 4/50\n",
      "60000/60000 [==============================] - 1s 20us/sample - loss: 147.6305 - KL_loss: 4.4763 - recon_loss: 143.1543 - val_loss: 145.0735 - val_KL_loss: 4.9209 - val_recon_loss: 140.1525\n",
      "Epoch 5/50\n",
      "60000/60000 [==============================] - 1s 20us/sample - loss: 145.4643 - KL_loss: 4.3408 - recon_loss: 141.1234 - val_loss: 144.6571 - val_KL_loss: 4.3490 - val_recon_loss: 140.3081\n",
      "Epoch 6/50\n",
      "60000/60000 [==============================] - 1s 20us/sample - loss: 144.1153 - KL_loss: 4.1448 - recon_loss: 139.9705 - val_loss: 143.7066 - val_KL_loss: 3.9015 - val_recon_loss: 139.8051\n",
      "Epoch 7/50\n",
      "60000/60000 [==============================] - 1s 20us/sample - loss: 143.8941 - KL_loss: 4.2554 - recon_loss: 139.6387 - val_loss: 144.3173 - val_KL_loss: 3.3682 - val_recon_loss: 140.9491\n",
      "Epoch 8/50\n",
      "60000/60000 [==============================] - 1s 21us/sample - loss: 143.3073 - KL_loss: 4.3880 - recon_loss: 138.9192 - val_loss: 143.1289 - val_KL_loss: 3.8388 - val_recon_loss: 139.2901\n",
      "Epoch 9/50\n",
      "60000/60000 [==============================] - 1s 20us/sample - loss: 142.8885 - KL_loss: 4.3428 - recon_loss: 138.5456 - val_loss: 142.2422 - val_KL_loss: 4.3021 - val_recon_loss: 137.9401\n",
      "Epoch 10/50\n",
      "60000/60000 [==============================] - 1s 20us/sample - loss: 142.5812 - KL_loss: 4.2863 - recon_loss: 138.2949 - val_loss: 141.5917 - val_KL_loss: 4.1018 - val_recon_loss: 137.4899\n",
      "Epoch 11/50\n",
      "60000/60000 [==============================] - 1s 20us/sample - loss: 142.0858 - KL_loss: 4.3497 - recon_loss: 137.7361 - val_loss: 141.2912 - val_KL_loss: 4.6209 - val_recon_loss: 136.6703\n",
      "Epoch 12/50\n",
      "60000/60000 [==============================] - 1s 20us/sample - loss: 141.8031 - KL_loss: 4.3847 - recon_loss: 137.4185 - val_loss: 141.9954 - val_KL_loss: 3.3287 - val_recon_loss: 138.6667\n",
      "Epoch 13/50\n",
      "60000/60000 [==============================] - 1s 20us/sample - loss: 141.5341 - KL_loss: 4.3069 - recon_loss: 137.2272 - val_loss: 141.2518 - val_KL_loss: 4.5205 - val_recon_loss: 136.7313\n",
      "Epoch 14/50\n",
      "60000/60000 [==============================] - 1s 20us/sample - loss: 141.4368 - KL_loss: 4.2768 - recon_loss: 137.1601 - val_loss: 141.0913 - val_KL_loss: 4.1501 - val_recon_loss: 136.9412\n",
      "Epoch 15/50\n",
      "60000/60000 [==============================] - 1s 20us/sample - loss: 141.5218 - KL_loss: 4.4571 - recon_loss: 137.0647 - val_loss: 141.5620 - val_KL_loss: 4.8875 - val_recon_loss: 136.6745\n",
      "Epoch 16/50\n",
      "60000/60000 [==============================] - 1s 20us/sample - loss: 141.0560 - KL_loss: 4.4352 - recon_loss: 136.6207 - val_loss: 141.1050 - val_KL_loss: 3.9361 - val_recon_loss: 137.1688\n",
      "Epoch 17/50\n",
      "60000/60000 [==============================] - 1s 20us/sample - loss: 140.6227 - KL_loss: 4.2114 - recon_loss: 136.4112 - val_loss: 140.0860 - val_KL_loss: 3.9650 - val_recon_loss: 136.1210\n",
      "Epoch 18/50\n",
      "60000/60000 [==============================] - 1s 21us/sample - loss: 141.2119 - KL_loss: 4.5276 - recon_loss: 136.6843 - val_loss: 140.5159 - val_KL_loss: 4.6811 - val_recon_loss: 135.8348\n",
      "Epoch 19/50\n",
      "60000/60000 [==============================] - 1s 20us/sample - loss: 140.7152 - KL_loss: 4.4060 - recon_loss: 136.3092 - val_loss: 140.4983 - val_KL_loss: 4.2775 - val_recon_loss: 136.2208\n",
      "Epoch 20/50\n",
      "60000/60000 [==============================] - 1s 20us/sample - loss: 140.6258 - KL_loss: 4.3454 - recon_loss: 136.2804 - val_loss: 140.1941 - val_KL_loss: 4.5561 - val_recon_loss: 135.6380\n",
      "Epoch 21/50\n",
      "60000/60000 [==============================] - 1s 20us/sample - loss: 140.4085 - KL_loss: 4.4083 - recon_loss: 136.0002 - val_loss: 139.7515 - val_KL_loss: 3.8282 - val_recon_loss: 135.9232\n",
      "Epoch 22/50\n",
      "60000/60000 [==============================] - 1s 21us/sample - loss: 140.5716 - KL_loss: 4.5616 - recon_loss: 136.0100 - val_loss: 142.7745 - val_KL_loss: 3.5400 - val_recon_loss: 139.2344\n",
      "Epoch 23/50\n",
      "60000/60000 [==============================] - 1s 20us/sample - loss: 140.2352 - KL_loss: 4.3685 - recon_loss: 135.8667 - val_loss: 140.2535 - val_KL_loss: 4.9007 - val_recon_loss: 135.3528\n",
      "Epoch 24/50\n",
      "60000/60000 [==============================] - 1s 21us/sample - loss: 140.1928 - KL_loss: 4.3758 - recon_loss: 135.8170 - val_loss: 141.8321 - val_KL_loss: 4.2723 - val_recon_loss: 137.5599\n",
      "Epoch 25/50\n",
      "60000/60000 [==============================] - 1s 21us/sample - loss: 140.2077 - KL_loss: 4.4292 - recon_loss: 135.7785 - val_loss: 140.5399 - val_KL_loss: 5.6513 - val_recon_loss: 134.8886\n",
      "Epoch 26/50\n",
      "60000/60000 [==============================] - 1s 21us/sample - loss: 140.0671 - KL_loss: 4.5206 - recon_loss: 135.5465 - val_loss: 140.6673 - val_KL_loss: 3.9817 - val_recon_loss: 136.6856\n"
     ]
    }
   ],
   "source": [
    "cvae_hist = CVAE.fit([X_train, y_train], X_train, verbose = 1, batch_size=batch_size, epochs=n_epoch,\n",
    "                      validation_data = ([X_test, y_test], X_test),\n",
    "                      callbacks = [EarlyStopping(patience = 5)])"
   ]
  },
  {
   "cell_type": "markdown",
   "id": "55068890",
   "metadata": {},
   "source": [
    "## Predicción\n",
    "\n",
    "Por defecto utilizamos un vector latente de ceros. Para variar el output se puede cambiar el vector latente."
   ]
  },
  {
   "cell_type": "code",
   "execution_count": 21,
   "id": "45b53e4e",
   "metadata": {
    "ExecuteTime": {
     "end_time": "2023-07-24T19:33:12.055983277Z",
     "start_time": "2023-07-24T19:33:12.011387639Z"
    }
   },
   "outputs": [
    {
     "data": {
      "text/plain": "<Figure size 300x300 with 1 Axes>",
      "image/png": "[encoded data removed]"
     },
     "metadata": {},
     "output_type": "display_data"
    }
   ],
   "source": [
    "z = np.zeros(shape=(1, latent_dim)) # latent vector\n",
    "label = np.array([[0,1,0,0,0,0,0,0,0,0]]) # label in one hot encoding\n",
    "plt.figure(figsize=(3, 3))\n",
    "plt.imshow(decoder.predict([z, label]).reshape(28,28), cmap = plt.cm.gray)\n",
    "plt.show()"
   ]
  },
  {
   "cell_type": "markdown",
   "id": "9744d4bf",
   "metadata": {},
   "source": [
    " # CVAE con capas convolucionales"
   ]
  },
  {
   "cell_type": "markdown",
   "id": "c80f9dff",
   "metadata": {},
   "source": [
    "## Data processing"
   ]
  },
  {
   "cell_type": "code",
   "execution_count": 22,
   "id": "6d3a5384",
   "metadata": {
    "ExecuteTime": {
     "end_time": "2023-07-24T19:33:23.865605153Z",
     "start_time": "2023-07-24T19:33:23.716633942Z"
    }
   },
   "outputs": [],
   "source": [
    "(imgs_train, labels_train), (imgs_test, labels_test) = mnist.load_data()\n",
    "imgs_train = (imgs_train.astype('float32') / 255)[:, :, :, np.newaxis]\n",
    "imgs_test = (imgs_test.astype('float32') / 255)[:, :, :, np.newaxis]\n",
    "\n",
    "labels_train = to_categorical(labels_train)\n",
    "labels_test = to_categorical(labels_test)"
   ]
  },
  {
   "cell_type": "code",
   "execution_count": 23,
   "outputs": [
    {
     "name": "stdout",
     "output_type": "stream",
     "text": [
      "image shape: (28, 28, 1)\n",
      "n_cat shape: (10,)\n"
     ]
    }
   ],
   "source": [
    "print(\"image shape:\", imgs_train.shape[1:])\n",
    "print(\"n_cat shape:\", labels_train.shape[1:])"
   ],
   "metadata": {
    "collapsed": false,
    "ExecuteTime": {
     "end_time": "2023-07-24T19:33:25.671627479Z",
     "start_time": "2023-07-24T19:33:25.667606094Z"
    }
   }
  },
  {
   "cell_type": "markdown",
   "id": "bddfe036",
   "metadata": {},
   "source": [
    "## Modelamiento\n",
    "### Hiperparámetros"
   ]
  },
  {
   "cell_type": "code",
   "execution_count": 24,
   "id": "ccf290c1",
   "metadata": {
    "ExecuteTime": {
     "end_time": "2023-07-24T19:33:39.991935947Z",
     "start_time": "2023-07-24T19:33:39.950783339Z"
    }
   },
   "outputs": [],
   "source": [
    "batch_size = 250 # batch size\n",
    "latent_dim = 2 # latent space size\n",
    "optim = Adam(lr=0.001)\n",
    "shape_img = imgs_train.shape[1:]\n",
    "n_cat = labels_train.shape[1]\n",
    "n_epoch = 50"
   ]
  },
  {
   "cell_type": "markdown",
   "id": "9038f4d2",
   "metadata": {},
   "source": [
    "### Encoder"
   ]
  },
  {
   "cell_type": "code",
   "execution_count": 27,
   "id": "6213ce87",
   "metadata": {
    "ExecuteTime": {
     "end_time": "2023-07-24T19:36:45.952279824Z",
     "start_time": "2023-07-24T19:36:45.869835443Z"
    }
   },
   "outputs": [
    {
     "name": "stdout",
     "output_type": "stream",
     "text": [
      "Model: \"encoder\"\n",
      "__________________________________________________________________________________________________\n",
      " Layer (type)                Output Shape                 Param #   Connected to                  \n",
      "==================================================================================================\n",
      " input_image (InputLayer)    [(None, 28, 28, 1)]          0         []                            \n",
      "                                                                                                  \n",
      " conv2d (Conv2D)             (None, 13, 13, 32)           320       ['input_image[0][0]']         \n",
      "                                                                                                  \n",
      " conv2d_1 (Conv2D)           (None, 6, 6, 64)             18496     ['conv2d[0][0]']              \n",
      "                                                                                                  \n",
      " flatten_1 (Flatten)         (None, 2304)                 0         ['conv2d_1[0][0]']            \n",
      "                                                                                                  \n",
      " input_label (InputLayer)    [(None, 10)]                 0         []                            \n",
      "                                                                                                  \n",
      " concatenate (Concatenate)   (None, 2314)                 0         ['flatten_1[0][0]',           \n",
      "                                                                     'input_label[0][0]']         \n",
      "                                                                                                  \n",
      " hidden_layer (Dense)        (None, 512)                  1185280   ['concatenate[0][0]']         \n",
      "                                                                                                  \n",
      " mu (Dense)                  (None, 2)                    1026      ['hidden_layer[0][0]']        \n",
      "                                                                                                  \n",
      " l_sigma (Dense)             (None, 2)                    1026      ['hidden_layer[0][0]']        \n",
      "                                                                                                  \n",
      " latent_vector (Lambda)      (None, 2)                    0         ['mu[0][0]',                  \n",
      "                                                                     'l_sigma[0][0]']             \n",
      "                                                                                                  \n",
      "==================================================================================================\n",
      "Total params: 1206148 (4.60 MB)\n",
      "Trainable params: 1206148 (4.60 MB)\n",
      "Non-trainable params: 0 (0.00 Byte)\n",
      "__________________________________________________________________________________________________\n"
     ]
    }
   ],
   "source": [
    "enc_input_image = Input(shape=(shape_img), name=\"input_image\")\n",
    "enc_input_label = Input(shape=(n_cat), name=\"input_label\")\n",
    "\n",
    "# convolutionals block\n",
    "conv1 = Conv2D(filters=32, kernel_size=3, strides=2, activation=\"relu\")(enc_input_image)\n",
    "conv2 = Conv2D(filters=64, kernel_size=3, strides=2, activation='relu')(conv1)\n",
    "\n",
    "# concat\n",
    "flattened = Flatten()(conv2)\n",
    "enc_concat = Concatenate()([flattened, enc_input_label])\n",
    "\n",
    "encoder_hidden = Dense(512, name=\"hidden_layer\")(enc_concat)\n",
    "mu = Dense(latent_dim, activation='linear', name=\"mu\")(encoder_hidden)\n",
    "l_sigma = Dense(latent_dim, activation='linear', name=\"l_sigma\")(encoder_hidden)\n",
    "def sample_z(args):\n",
    "    mu, l_sigma = args\n",
    "    eps = K.random_normal(shape=(latent_dim, ), mean=0., stddev=1.) # shape antes => (batch_size, latent_dim)\n",
    "    return mu + K.exp(l_sigma / 2) * eps\n",
    "z = Lambda(sample_z, output_shape = (latent_dim, ), name=\"latent_vector\")([mu, l_sigma]) # output encoder\n",
    "\n",
    "encoder = Model([enc_input_image, enc_input_label], z, name=\"encoder\")\n",
    "encoder.summary()"
   ]
  },
  {
   "cell_type": "markdown",
   "id": "976f82df",
   "metadata": {},
   "source": [
    "### Decoder"
   ]
  },
  {
   "cell_type": "code",
   "execution_count": 28,
   "id": "779e58de",
   "metadata": {
    "ExecuteTime": {
     "end_time": "2023-07-24T19:36:47.032654157Z",
     "start_time": "2023-07-24T19:36:46.941069035Z"
    }
   },
   "outputs": [
    {
     "name": "stdout",
     "output_type": "stream",
     "text": [
      "Model: \"decoder\"\n",
      "__________________________________________________________________________________________________\n",
      " Layer (type)                Output Shape                 Param #   Connected to                  \n",
      "==================================================================================================\n",
      " input_latent_vector (Input  [(None, 2)]                  0         []                            \n",
      " Layer)                                                                                           \n",
      "                                                                                                  \n",
      " input_label (InputLayer)    [(None, 10)]                 0         []                            \n",
      "                                                                                                  \n",
      " decoder_concat (Concatenat  (None, 12)                   0         ['input_latent_vector[0][0]', \n",
      " e)                                                                  'input_label[0][0]']         \n",
      "                                                                                                  \n",
      " hidden_layer (Dense)        (None, 512)                  6656      ['decoder_concat[0][0]']      \n",
      "                                                                                                  \n",
      " hidden_layer2 (Dense)       (None, 1568)                 804384    ['hidden_layer[0][0]']        \n",
      "                                                                                                  \n",
      " reshape_1 (Reshape)         (None, 7, 7, 32)             0         ['hidden_layer2[0][0]']       \n",
      "                                                                                                  \n",
      " conv2d_transpose_3 (Conv2D  (None, 14, 14, 64)           18496     ['reshape_1[0][0]']           \n",
      " Transpose)                                                                                       \n",
      "                                                                                                  \n",
      " conv2d_transpose_4 (Conv2D  (None, 28, 28, 32)           18464     ['conv2d_transpose_3[0][0]']  \n",
      " Transpose)                                                                                       \n",
      "                                                                                                  \n",
      " conv2d_transpose_5 (Conv2D  (None, 28, 28, 1)            289       ['conv2d_transpose_4[0][0]']  \n",
      " Transpose)                                                                                       \n",
      "                                                                                                  \n",
      " flatten_2 (Flatten)         (None, 784)                  0         ['conv2d_transpose_5[0][0]']  \n",
      "                                                                                                  \n",
      "==================================================================================================\n",
      "Total params: 848289 (3.24 MB)\n",
      "Trainable params: 848289 (3.24 MB)\n",
      "Non-trainable params: 0 (0.00 Byte)\n",
      "__________________________________________________________________________________________________\n"
     ]
    }
   ],
   "source": [
    "dec_inp_latent_vector = Input(shape=(latent_dim), name=\"input_latent_vector\")\n",
    "decoder_inp_label = Input(shape=(n_cat), name = \"input_label\")\n",
    "dec_concat = Concatenate(name=\"decoder_concat\")([dec_inp_latent_vector, decoder_inp_label])\n",
    "\n",
    "decoder_hidden = Dense(512, activation=\"relu\", name=\"hidden_layer\")(dec_concat)\n",
    "decoder_hidden = Dense(7*7*32, activation=\"relu\", name=\"hidden_layer2\")(decoder_hidden)\n",
    "reshaped = Reshape(target_shape=(7,7,32))(decoder_hidden)\n",
    "\n",
    "# convolutionals block\n",
    "dec_conv1 = Conv2DTranspose(filters=64, kernel_size=3, strides=2, activation=\"relu\", padding='same')(reshaped)\n",
    "dec_conv2 = Conv2DTranspose(filters=32, kernel_size=3, strides=2, activation=\"relu\", padding='same')(dec_conv1)\n",
    "dec_output_img = Conv2DTranspose(filters=1, kernel_size=3, strides=1, padding='same')(dec_conv2)\n",
    "dec_output_img = Flatten()(dec_output_img)\n",
    "decoder = Model([dec_inp_latent_vector, decoder_inp_label], dec_output_img, name=\"decoder\")\n",
    "decoder.summary()"
   ]
  },
  {
   "cell_type": "markdown",
   "id": "186ae3e3",
   "metadata": {},
   "source": [
    "### Conditional Variational autoencoder"
   ]
  },
  {
   "cell_type": "code",
   "execution_count": 29,
   "id": "21647254",
   "metadata": {
    "ExecuteTime": {
     "end_time": "2023-07-24T19:36:48.096180086Z",
     "start_time": "2023-07-24T19:36:48.028028032Z"
    }
   },
   "outputs": [
    {
     "name": "stdout",
     "output_type": "stream",
     "text": [
      "Model: \"CVAE\"\n",
      "__________________________________________________________________________________________________\n",
      " Layer (type)                Output Shape                 Param #   Connected to                  \n",
      "==================================================================================================\n",
      " input_image (InputLayer)    [(None, 28, 28, 1)]          0         []                            \n",
      "                                                                                                  \n",
      " input_label (InputLayer)    [(None, 10)]                 0         []                            \n",
      "                                                                                                  \n",
      " encoder (Functional)        (None, 2)                    1206148   ['input_image[0][0]',         \n",
      "                                                                     'input_label[0][0]']         \n",
      "                                                                                                  \n",
      " decoder (Functional)        (None, 784)                  848289    ['encoder[0][0]',             \n",
      "                                                                     'input_label[0][0]']         \n",
      "                                                                                                  \n",
      "==================================================================================================\n",
      "Total params: 2054437 (7.84 MB)\n",
      "Trainable params: 2054437 (7.84 MB)\n",
      "Non-trainable params: 0 (0.00 Byte)\n",
      "__________________________________________________________________________________________________\n"
     ]
    }
   ],
   "source": [
    "latent_vector = encoder(inputs=[enc_input_image, enc_input_label]) # z\n",
    "output_img = decoder(inputs=[latent_vector, enc_input_label])\n",
    "CVAE = Model(inputs=[enc_input_image, enc_input_label], outputs=output_img, name=\"CVAE\")\n",
    "CVAE.summary()"
   ]
  },
  {
   "cell_type": "markdown",
   "id": "328f6aa1",
   "metadata": {},
   "source": [
    "## Entrenamiento"
   ]
  },
  {
   "cell_type": "code",
   "execution_count": 30,
   "id": "317a581d",
   "metadata": {
    "ExecuteTime": {
     "end_time": "2023-07-24T19:36:56.413400997Z",
     "start_time": "2023-07-24T19:36:56.408795362Z"
    }
   },
   "outputs": [],
   "source": [
    "def vae_loss(y_true, y_pred):\n",
    "    recon = recon_loss(y_true, y_pred)\n",
    "    kl = KL_loss(y_true, y_pred)\n",
    "    return recon + kl\n",
    "\n",
    "def KL_loss(y_true, y_pred): # it doesnt use y_true and y_pred but the parameters are necessary for compiling\n",
    "     # importante se usan las capas de mu y sigma del encoder\n",
    "    return(0.5 * K.sum(K.exp(l_sigma) + K.square(mu) - 1. - l_sigma, axis=1))\n",
    "\n",
    "def recon_loss(y_true, y_pred):\n",
    "    return K.sum(K.binary_crossentropy(y_true, y_pred), axis=-1)"
   ]
  },
  {
   "cell_type": "code",
   "execution_count": 31,
   "id": "db01a324",
   "metadata": {
    "ExecuteTime": {
     "end_time": "2023-07-24T19:36:58.086082234Z",
     "start_time": "2023-07-24T19:36:58.046088070Z"
    }
   },
   "outputs": [],
   "source": [
    "CVAE.compile(optimizer=optim, loss=vae_loss, metrics=[KL_loss, recon_loss])"
   ]
  },
  {
   "cell_type": "code",
   "execution_count": 32,
   "id": "d053a872",
   "metadata": {
    "ExecuteTime": {
     "end_time": "2023-07-24T19:37:45.653132754Z",
     "start_time": "2023-07-24T19:37:45.606952361Z"
    }
   },
   "outputs": [
    {
     "name": "stdout",
     "output_type": "stream",
     "text": [
      "(60000, 784)\n"
     ]
    }
   ],
   "source": [
    "# the output of the decoder is a flattened img, \n",
    "# so we need to flatten the true values (input images from (28,28,1) => 784)\n",
    "y_train = imgs_train.reshape(imgs_train.shape[0], -1)\n",
    "y_test = imgs_test.reshape(imgs_test.shape[0], -1)\n",
    "print(y_train.shape)"
   ]
  },
  {
   "cell_type": "code",
   "execution_count": 33,
   "id": "a29281cb",
   "metadata": {
    "scrolled": false,
    "ExecuteTime": {
     "end_time": "2023-07-24T19:44:51.153115829Z",
     "start_time": "2023-07-24T19:38:03.683532109Z"
    }
   },
   "outputs": [
    {
     "name": "stdout",
     "output_type": "stream",
     "text": [
      "Train on 60000 samples, validate on 10000 samples\n",
      "Epoch 1/50\n"
     ]
    },
    {
     "name": "stderr",
     "output_type": "stream",
     "text": [
      "2023-07-24 14:38:03.908778: W tensorflow/c/c_api.cc:304] Operation '{name:'training_2/Adam/conv2d_transpose_5/kernel/v/Assign' id:2026 op device:{requested: '', assigned: ''} def:{{{node training_2/Adam/conv2d_transpose_5/kernel/v/Assign}} = AssignVariableOp[_has_manual_control_dependencies=true, dtype=DT_FLOAT, validate_shape=false](training_2/Adam/conv2d_transpose_5/kernel/v, training_2/Adam/conv2d_transpose_5/kernel/v/Initializer/zeros)}}' was changed by setting attribute after it was run by a session. This mutation will have no effect, and will trigger an error in the future. Either don't modify nodes after running them or create a new session.\n"
     ]
    },
    {
     "name": "stdout",
     "output_type": "stream",
     "text": [
      "60000/60000 [==============================] - ETA: 0s - loss: 211.5188 - KL_loss: 3.3711 - recon_loss: 208.1476"
     ]
    },
    {
     "name": "stderr",
     "output_type": "stream",
     "text": [
      "2023-07-24 14:38:20.227075: W tensorflow/c/c_api.cc:304] Operation '{name:'loss_1/mul' id:1461 op device:{requested: '', assigned: ''} def:{{{node loss_1/mul}} = Mul[T=DT_FLOAT, _has_manual_control_dependencies=true](loss_1/mul/x, loss_1/decoder_loss/value)}}' was changed by setting attribute after it was run by a session. This mutation will have no effect, and will trigger an error in the future. Either don't modify nodes after running them or create a new session.\n"
     ]
    },
    {
     "name": "stdout",
     "output_type": "stream",
     "text": [
      "60000/60000 [==============================] - 17s 287us/sample - loss: 211.5188 - KL_loss: 3.3711 - recon_loss: 208.1476 - val_loss: 163.4804 - val_KL_loss: 3.7319 - val_recon_loss: 159.7484\n",
      "Epoch 2/50\n",
      "60000/60000 [==============================] - 17s 280us/sample - loss: 159.5977 - KL_loss: 3.3337 - recon_loss: 156.2641 - val_loss: 152.6196 - val_KL_loss: 3.4018 - val_recon_loss: 149.2178\n",
      "Epoch 3/50\n",
      "60000/60000 [==============================] - 17s 280us/sample - loss: 149.4043 - KL_loss: 3.5902 - recon_loss: 145.8141 - val_loss: 146.1235 - val_KL_loss: 3.1574 - val_recon_loss: 142.9661\n",
      "Epoch 4/50\n",
      "60000/60000 [==============================] - 17s 282us/sample - loss: 147.0586 - KL_loss: 3.8095 - recon_loss: 143.2491 - val_loss: 153.9128 - val_KL_loss: 3.3044 - val_recon_loss: 150.6085\n",
      "Epoch 5/50\n",
      "60000/60000 [==============================] - 17s 282us/sample - loss: 145.8171 - KL_loss: 4.0380 - recon_loss: 141.7791 - val_loss: 143.5939 - val_KL_loss: 4.1873 - val_recon_loss: 139.4066\n",
      "Epoch 6/50\n",
      "60000/60000 [==============================] - 17s 282us/sample - loss: 143.5091 - KL_loss: 4.0349 - recon_loss: 139.4742 - val_loss: 143.1343 - val_KL_loss: 3.7792 - val_recon_loss: 139.3551\n",
      "Epoch 7/50\n",
      "60000/60000 [==============================] - 17s 284us/sample - loss: 143.9342 - KL_loss: 3.9257 - recon_loss: 140.0085 - val_loss: 143.9901 - val_KL_loss: 3.8067 - val_recon_loss: 140.1833\n",
      "Epoch 8/50\n",
      "60000/60000 [==============================] - 17s 284us/sample - loss: 142.2269 - KL_loss: 4.0481 - recon_loss: 138.1788 - val_loss: 140.2971 - val_KL_loss: 4.3074 - val_recon_loss: 135.9897\n",
      "Epoch 9/50\n",
      "60000/60000 [==============================] - 17s 287us/sample - loss: 140.0812 - KL_loss: 4.1469 - recon_loss: 135.9343 - val_loss: 140.3529 - val_KL_loss: 4.3395 - val_recon_loss: 136.0134\n",
      "Epoch 10/50\n",
      "60000/60000 [==============================] - 17s 282us/sample - loss: 139.9812 - KL_loss: 4.1057 - recon_loss: 135.8755 - val_loss: 141.3476 - val_KL_loss: 4.2367 - val_recon_loss: 137.1109\n",
      "Epoch 11/50\n",
      "60000/60000 [==============================] - 17s 286us/sample - loss: 138.7439 - KL_loss: 4.4135 - recon_loss: 134.3304 - val_loss: 138.8779 - val_KL_loss: 4.4968 - val_recon_loss: 134.3812\n",
      "Epoch 12/50\n",
      "60000/60000 [==============================] - 17s 284us/sample - loss: 138.5881 - KL_loss: 4.3806 - recon_loss: 134.2075 - val_loss: 138.8193 - val_KL_loss: 4.3551 - val_recon_loss: 134.4643\n",
      "Epoch 13/50\n",
      "60000/60000 [==============================] - 17s 284us/sample - loss: 151.7759 - KL_loss: 3.7906 - recon_loss: 147.9853 - val_loss: 141.9867 - val_KL_loss: 4.4887 - val_recon_loss: 137.4980\n",
      "Epoch 14/50\n",
      "60000/60000 [==============================] - 17s 282us/sample - loss: 140.0152 - KL_loss: 4.2006 - recon_loss: 135.8146 - val_loss: 140.3720 - val_KL_loss: 4.0972 - val_recon_loss: 136.2748\n",
      "Epoch 15/50\n",
      "60000/60000 [==============================] - 17s 283us/sample - loss: 137.9656 - KL_loss: 4.2283 - recon_loss: 133.7372 - val_loss: 137.2911 - val_KL_loss: 4.4684 - val_recon_loss: 132.8227\n",
      "Epoch 16/50\n",
      "60000/60000 [==============================] - 17s 283us/sample - loss: 138.4051 - KL_loss: 4.2451 - recon_loss: 134.1599 - val_loss: 136.7213 - val_KL_loss: 3.9239 - val_recon_loss: 132.7974\n",
      "Epoch 17/50\n",
      "60000/60000 [==============================] - 17s 282us/sample - loss: 136.5412 - KL_loss: 4.3263 - recon_loss: 132.2149 - val_loss: 138.6229 - val_KL_loss: 4.4013 - val_recon_loss: 134.2216\n",
      "Epoch 18/50\n",
      "60000/60000 [==============================] - 17s 283us/sample - loss: 136.0693 - KL_loss: 4.4556 - recon_loss: 131.6137 - val_loss: 137.5713 - val_KL_loss: 4.8460 - val_recon_loss: 132.7254\n",
      "Epoch 19/50\n",
      "60000/60000 [==============================] - 17s 281us/sample - loss: 136.5693 - KL_loss: 4.3861 - recon_loss: 132.1833 - val_loss: 136.0441 - val_KL_loss: 3.9396 - val_recon_loss: 132.1045\n",
      "Epoch 20/50\n",
      "60000/60000 [==============================] - 17s 283us/sample - loss: 136.0050 - KL_loss: 4.3607 - recon_loss: 131.6443 - val_loss: 136.2778 - val_KL_loss: 4.6864 - val_recon_loss: 131.5914\n",
      "Epoch 21/50\n",
      "60000/60000 [==============================] - 17s 285us/sample - loss: 135.7629 - KL_loss: 4.3475 - recon_loss: 131.4154 - val_loss: 138.6379 - val_KL_loss: 3.5914 - val_recon_loss: 135.0465\n",
      "Epoch 22/50\n",
      "60000/60000 [==============================] - 17s 283us/sample - loss: 138.9218 - KL_loss: 4.3988 - recon_loss: 134.5231 - val_loss: 136.2502 - val_KL_loss: 4.1038 - val_recon_loss: 132.1464\n",
      "Epoch 23/50\n",
      "60000/60000 [==============================] - 17s 279us/sample - loss: 135.7249 - KL_loss: 4.4654 - recon_loss: 131.2595 - val_loss: 136.3156 - val_KL_loss: 4.4165 - val_recon_loss: 131.8991\n",
      "Epoch 24/50\n",
      "60000/60000 [==============================] - 17s 278us/sample - loss: 136.3744 - KL_loss: 4.3932 - recon_loss: 131.9812 - val_loss: 140.2629 - val_KL_loss: 3.9872 - val_recon_loss: 136.2757\n"
     ]
    }
   ],
   "source": [
    "cvae_hist = CVAE.fit([imgs_train, labels_train], y_train, verbose = 1, batch_size=batch_size, epochs=n_epoch,\n",
    "                      validation_data = ([imgs_test, labels_test], y_test),\n",
    "                      callbacks = [EarlyStopping(patience = 5)])"
   ]
  },
  {
   "cell_type": "markdown",
   "source": [
    "## Prediccion"
   ],
   "metadata": {
    "collapsed": false
   }
  },
  {
   "cell_type": "code",
   "execution_count": 34,
   "outputs": [
    {
     "name": "stderr",
     "output_type": "stream",
     "text": [
      "2023-07-24 17:19:37.604714: W tensorflow/c/c_api.cc:304] Operation '{name:'flatten_2/Reshape' id:1225 op device:{requested: '', assigned: ''} def:{{{node flatten_2/Reshape}} = Reshape[T=DT_FLOAT, Tshape=DT_INT32, _has_manual_control_dependencies=true](conv2d_transpose_5/BiasAdd, flatten_2/Const)}}' was changed by setting attribute after it was run by a session. This mutation will have no effect, and will trigger an error in the future. Either don't modify nodes after running them or create a new session.\n"
     ]
    },
    {
     "data": {
      "text/plain": "<Figure size 300x300 with 1 Axes>",
      "image/png": "[encoded data removed]"
     },
     "metadata": {},
     "output_type": "display_data"
    }
   ],
   "source": [
    "z = np.zeros(shape=(1, latent_dim))  # latent vector\n",
    "label = np.array([[0, 1, 0, 0, 0, 0, 0, 0, 0, 0]])  # label in one hot encoding\n",
    "plt.figure(figsize=(3, 3))\n",
    "plt.imshow(decoder.predict([z, label]).reshape(28, 28), cmap=plt.cm.gray)\n",
    "plt.show()"
   ],
   "metadata": {
    "collapsed": false,
    "ExecuteTime": {
     "end_time": "2023-07-24T22:19:37.700232054Z",
     "start_time": "2023-07-24T22:19:37.604958230Z"
    }
   }
  },
  {
   "cell_type": "code",
   "execution_count": null,
   "outputs": [],
   "source": [],
   "metadata": {
    "collapsed": false
   }
  }
 ],
 "metadata": {
  "kernelspec": {
   "name": "ds",
   "language": "python",
   "display_name": "data science"
  },
  "language_info": {
   "codemirror_mode": {
    "name": "ipython",
    "version": 3
   },
   "file_extension": ".py",
   "mimetype": "text/x-python",
   "name": "python",
   "nbconvert_exporter": "python",
   "pygments_lexer": "ipython3",
   "version": "3.8.15"
  }
 },
 "nbformat": 4,
 "nbformat_minor": 5
}
